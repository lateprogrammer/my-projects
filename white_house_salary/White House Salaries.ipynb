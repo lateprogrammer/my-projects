{
 "cells": [
  {
   "cell_type": "code",
   "execution_count": 298,
   "metadata": {
    "collapsed": true
   },
   "outputs": [],
   "source": [
    "import pandas as pd\n",
    "import numpy as np\n",
    "import matplotlib.pyplot as plt\n",
    "import scipy as sp\n",
    "import scipy.stats\n"
   ]
  },
  {
   "cell_type": "code",
   "execution_count": 299,
   "metadata": {},
   "outputs": [],
   "source": [
    "WH = pd.read_csv('white_house_2017_salaries(RAW).csv',delimiter =',')"
   ]
  },
  {
   "cell_type": "code",
   "execution_count": 300,
   "metadata": {},
   "outputs": [],
   "source": [
    "WH['SALARY'] = WH['SALARY'].str.replace('$','')\n",
    "WH['SALARY'] = WH['SALARY'].str.replace(' ','')\n",
    "WH['SALARY'] = WH['SALARY'].str.replace(',','')"
   ]
  },
  {
   "cell_type": "code",
   "execution_count": 301,
   "metadata": {},
   "outputs": [
    {
     "data": {
      "text/plain": [
       "count           377\n",
       "unique           74\n",
       "top       115000.00\n",
       "freq             46\n",
       "Name: SALARY, dtype: object"
      ]
     },
     "execution_count": 301,
     "metadata": {},
     "output_type": "execute_result"
    }
   ],
   "source": [
    "WH['SALARY'].describe()"
   ]
  },
  {
   "cell_type": "code",
   "execution_count": 302,
   "metadata": {
    "collapsed": true
   },
   "outputs": [],
   "source": [
    "WH['SALARY'] = pd.to_numeric(WH['SALARY'],errors = 'coerce')"
   ]
  },
  {
   "cell_type": "code",
   "execution_count": 303,
   "metadata": {},
   "outputs": [
    {
     "data": {
      "text/html": [
       "<div>\n",
       "<style>\n",
       "    .dataframe thead tr:only-child th {\n",
       "        text-align: right;\n",
       "    }\n",
       "\n",
       "    .dataframe thead th {\n",
       "        text-align: left;\n",
       "    }\n",
       "\n",
       "    .dataframe tbody tr th {\n",
       "        vertical-align: top;\n",
       "    }\n",
       "</style>\n",
       "<table border=\"1\" class=\"dataframe\">\n",
       "  <thead>\n",
       "    <tr style=\"text-align: right;\">\n",
       "      <th></th>\n",
       "      <th>SALARY</th>\n",
       "    </tr>\n",
       "  </thead>\n",
       "  <tbody>\n",
       "    <tr>\n",
       "      <th>count</th>\n",
       "      <td>377.000000</td>\n",
       "    </tr>\n",
       "    <tr>\n",
       "      <th>mean</th>\n",
       "      <td>94872.000000</td>\n",
       "    </tr>\n",
       "    <tr>\n",
       "      <th>std</th>\n",
       "      <td>43112.357821</td>\n",
       "    </tr>\n",
       "    <tr>\n",
       "      <th>min</th>\n",
       "      <td>0.000000</td>\n",
       "    </tr>\n",
       "    <tr>\n",
       "      <th>25%</th>\n",
       "      <td>56000.000000</td>\n",
       "    </tr>\n",
       "    <tr>\n",
       "      <th>50%</th>\n",
       "      <td>89000.000000</td>\n",
       "    </tr>\n",
       "    <tr>\n",
       "      <th>75%</th>\n",
       "      <td>119000.000000</td>\n",
       "    </tr>\n",
       "    <tr>\n",
       "      <th>max</th>\n",
       "      <td>187100.000000</td>\n",
       "    </tr>\n",
       "  </tbody>\n",
       "</table>\n",
       "</div>"
      ],
      "text/plain": [
       "              SALARY\n",
       "count     377.000000\n",
       "mean    94872.000000\n",
       "std     43112.357821\n",
       "min         0.000000\n",
       "25%     56000.000000\n",
       "50%     89000.000000\n",
       "75%    119000.000000\n",
       "max    187100.000000"
      ]
     },
     "execution_count": 303,
     "metadata": {},
     "output_type": "execute_result"
    }
   ],
   "source": [
    "WH.describe()"
   ]
  },
  {
   "cell_type": "code",
   "execution_count": 304,
   "metadata": {
    "collapsed": true
   },
   "outputs": [],
   "source": [
    "WH['AVG_Salary_Job_title'] = WH.groupby('POSITION TITLE')['SALARY'].transform(np.mean)"
   ]
  },
  {
   "cell_type": "code",
   "execution_count": 305,
   "metadata": {},
   "outputs": [
    {
     "name": "stdout",
     "output_type": "stream",
     "text": [
      "TOP 5 Highest Salary Poisition:  ['SENIOR POLICY ADVISOR', 'ASSISTANT TO THE PRESIDENT AND DEPUTY NATIONAL SECURITY ADVISOR', 'ASSISTANT TO THE PRESIDENT AND DIRECTOR OF STRATEGIC COMMUNICATIONS', 'ASSISTANT TO THE PRESIDENT AND DIRECTOR OF SOCIAL MEDIA', 'ASSISTANT TO THE PRESIDENT AND WHITE HOUSE STAFF SECRETARY']\n"
     ]
    }
   ],
   "source": [
    "WH_average = WH[['POSITION TITLE', 'AVG_Salary_Job_title']]\n",
    "WH_average = WH_average.drop_duplicates()\n",
    "WH_average = WH_average.sort_values(by='AVG_Salary_Job_title', ascending=False).reset_index(drop=True)\n",
    "print 'TOP 5 Highest Salary Poisition: ',      WH_average['POSITION TITLE'][:5].tolist()"
   ]
  },
  {
   "cell_type": "code",
   "execution_count": 306,
   "metadata": {},
   "outputs": [
    {
     "name": "stdout",
     "output_type": "stream",
     "text": [
      "NAME\n",
      "House, Mark S.           187100.0\n",
      "Powell, Dina H.          179700.0\n",
      "Miller, Stephen          179700.0\n",
      "Dearborn, Ricky A.       179700.0\n",
      "McGahn, II, Donald F.    179700.0\n",
      "Name: SALARY, dtype: float64\n"
     ]
    }
   ],
   "source": [
    "print WH.groupby('NAME')['SALARY'].mean().sort_values(ascending = False)[:5]"
   ]
  },
  {
   "cell_type": "code",
   "execution_count": 307,
   "metadata": {},
   "outputs": [
    {
     "name": "stdout",
     "output_type": "stream",
     "text": [
      "95% Interval Around the Mean:      (90506.043706544224, 94872.0, 99237.956293455776)\n"
     ]
    }
   ],
   "source": [
    "def mean_confidence_interval(data,confidence = 0.95):\n",
    "    x = 1.0*np.array(data)\n",
    "    length = len(x)\n",
    "    mean,sd = np.mean(x), scipy.stats.sem(x)\n",
    "    interval = sd * sp.stats.t._ppf((1+confidence)/2.0,length-1)\n",
    "    return mean - interval, mean, mean+interval\n",
    "\n",
    "mean = WH['SALARY'].mean()\n",
    "print '95% Interval Around the Mean:     ', mean_confidence_interval(WH['SALARY'])\n",
    "    "
   ]
  },
  {
   "cell_type": "code",
   "execution_count": 308,
   "metadata": {},
   "outputs": [
    {
     "data": {
      "image/png": "[encoded data removed]",
      "text/plain": [
       "<matplotlib.figure.Figure at 0x125993210>"
      ]
     },
     "metadata": {},
     "output_type": "display_data"
    }
   ],
   "source": [
    "WH.boxplot('SALARY')\n",
    "plt.title('Distribution of all salaries from Dataset')\n",
    "plt.ylabel('Salary in $')\n",
    "plt.show()"
   ]
  },
  {
   "cell_type": "code",
   "execution_count": null,
   "metadata": {
    "collapsed": true
   },
   "outputs": [],
   "source": []
  }
 ],
 "metadata": {
  "kernelspec": {
   "display_name": "Python 2",
   "language": "python",
   "name": "python2"
  },
  "language_info": {
   "codemirror_mode": {
    "name": "ipython",
    "version": 2
   },
   "file_extension": ".py",
   "mimetype": "text/x-python",
   "name": "python",
   "nbconvert_exporter": "python",
   "pygments_lexer": "ipython2",
   "version": "2.7.13"
  }
 },
 "nbformat": 4,
 "nbformat_minor": 2
}
